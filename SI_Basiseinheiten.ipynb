{
 "cells": [
  {
   "cell_type": "markdown",
   "metadata": {},
   "source": [
    "\n",
    "# Einheiten\n",
    "\n",
    "[P. Kersten](https://www.hshl.de/personen/prof-dr-ing-peter-kersten), [J. Jeschonowski](https://www.xing.com/profile/Jule_Jeschonowski/cv), [L.P. Kamegne-Kamdem](https://www.linkedin.com/in/leger-paco-kamegne-kamdem-07ba39184/), [N.B. Neathery](https://www.linkedin.com/in/noel-neathery-6371561a6/) und D.M. Weis\n",
    "\n",
    "[Hochschule Hamm-Lippstadt](https://www.hshl.de), Marker Allee 76–78, D-59063 Hamm"
   ]
  },
  {
   "cell_type": "markdown",
   "metadata": {},
   "source": [
    "## Inhalt\n",
    "- Einheiten in SI-Basiseinheiten umformen"
   ]
  },
  {
   "cell_type": "code",
   "execution_count": 1,
   "metadata": {},
   "outputs": [
    {
     "data": {
      "text/html": [
       "<script>$(\"div.input\").hide()</script>"
      ],
      "text/plain": [
       "<IPython.core.display.HTML object>"
      ]
     },
     "metadata": {},
     "output_type": "display_data"
    },
    {
     "data": {
      "application/vnd.jupyter.widget-view+json": {
       "model_id": "71a9b6ca96ef499b89202b74eea23612",
       "version_major": 2,
       "version_minor": 0
      },
      "text/plain": [
       "ToggleButton(value=False, description='Quellcode anzeigen')"
      ]
     },
     "metadata": {},
     "output_type": "display_data"
    }
   ],
   "source": [
    "import ipywidgets as widgets\n",
    "from ipywidgets import interact\n",
    "from IPython.display import Markdown, clear_output, display, HTML\n",
    "\n",
    "javascript_functions = {False: \"hide()\", True: \"show()\"}\n",
    "button_descriptions  = {False: \"Code anzeigen\", True: \"Code verbergen\"}\n",
    "\n",
    "\n",
    "javascript_funktion = {False: \"hide()\", True: \"show()\"}\n",
    "schaltflaeche  = {False: \"Quellcode anzeigen\", True: \"Quellcode verbergen\"}\n",
    "\n",
    "\n",
    "def quellcode_umschalten(state):\n",
    "\n",
    "    output_string = \"<script>$(\\\"div.input\\\").{}</script>\"\n",
    "    output_args   = (javascript_funktion[state],)\n",
    "    output        = output_string.format(*output_args)\n",
    "    display(HTML(output))\n",
    "\n",
    "\n",
    "def schaltflaeche_aktion(value):\n",
    "\n",
    "    state = value.new\n",
    "    quellcode_umschalten(state)\n",
    "    value.owner.description = schaltflaeche[state]\n",
    "\n",
    "\n",
    "state = False\n",
    "quellcode_umschalten(state)\n",
    "\n",
    "button = widgets.ToggleButton(state, description = schaltflaeche[state])\n",
    "button.observe(schaltflaeche_aktion, \"value\")\n",
    "\n",
    "display(button)"
   ]
  },
  {
   "cell_type": "markdown",
   "metadata": {},
   "source": [
    "### Umrechnen von Einheiten\n",
    "Jede Einheit lässt sich mit Hilfe der sieben SI- Basiseinheiten (Système International) ausdrücken:\n",
    "\n",
    "\n",
    "- Länge: der Meter ($\\text{m}$)\n",
    "- Zeit: die Sekunde ($\\text{s}$)\n",
    "- Masse: das Kilogram ($\\text{kg}$)\n",
    "- Elektrische Stromstärke: das Ampere ($\\text{A}$)\n",
    "- Temperatur: das Kelvin ($\\text{K}$)\n",
    "- Lichtstärke: die Candela ($\\text{cd}$)\n",
    "- Stoffmenge: das Mol ($\\text{mol}$)\n",
    "\n",
    "\n",
    "Betrachte man eine physikalische Größe $G$ bedeutet die Schreibweise $[G]$ = Einheit der Größe $G$.\n",
    "\n",
    "So lässt sich beispielsweise die Einheit der Kaft $F$ folgendermaßen darstellen:<br>   \n",
    "$[F]=\\text{N}={\\text{kg}\\cdot \\text{m}}/{\\text{s}^2}$ oder $[F]=\\text{N}=\\text{kg}^{1}\\,\\text{m}^{1}\\,\\text{s}^{-2}$\n",
    "\n",
    "Dieser Zusammenhang folgt aus dem zweiten Newtonschen Gesetzt $F=m\\cdot a$ ableiten."
   ]
  },
  {
   "cell_type": "markdown",
   "metadata": {
    "slideshow": {
     "slide_type": "subslide"
    }
   },
   "source": [
    "## Knowledge Check(s)\n",
    "\n",
    "### Umrechnen in SI-Basiseinheiten\n",
    "Im folgenden sind einige physikalische Größen angegeben. Formen Sie die für diese Größen angegebenen Einheiten in SI-Basiseinheiten um und überprüfen Sie Ihr Ergebnis durch Anklicken der (grau hinterlegten) Schaltflächen. Das Ergebnis wird weiter unten angezeigt."
   ]
  },
  {
   "cell_type": "code",
   "execution_count": 2,
   "metadata": {},
   "outputs": [
    {
     "name": "stdout",
     "output_type": "stream",
     "text": [
      "Kraft F\n"
     ]
    },
    {
     "data": {
      "application/vnd.jupyter.widget-view+json": {
       "model_id": "73a3da3760c94b2da6e7bbb96ed472e4",
       "version_major": 2,
       "version_minor": 0
      },
      "text/plain": [
       "Button(description='[F] = N', style=ButtonStyle())"
      ]
     },
     "metadata": {},
     "output_type": "display_data"
    },
    {
     "data": {
      "application/vnd.jupyter.widget-view+json": {
       "model_id": "f8976186df2142d2b079a57b6003fe1b",
       "version_major": 2,
       "version_minor": 0
      },
      "text/plain": [
       "Output()"
      ]
     },
     "metadata": {},
     "output_type": "display_data"
    },
    {
     "name": "stdout",
     "output_type": "stream",
     "text": [
      "Leistung  P\n"
     ]
    },
    {
     "data": {
      "application/vnd.jupyter.widget-view+json": {
       "model_id": "310c8dd9a92a400f831f8fc641ce2eea",
       "version_major": 2,
       "version_minor": 0
      },
      "text/plain": [
       "Button(description='[P] = W', style=ButtonStyle())"
      ]
     },
     "metadata": {},
     "output_type": "display_data"
    },
    {
     "data": {
      "application/vnd.jupyter.widget-view+json": {
       "model_id": "c4bff4ecc8a84b68a437fb0d840ae2ef",
       "version_major": 2,
       "version_minor": 0
      },
      "text/plain": [
       "Output()"
      ]
     },
     "metadata": {},
     "output_type": "display_data"
    },
    {
     "name": "stdout",
     "output_type": "stream",
     "text": [
      "Arbeit  W\n"
     ]
    },
    {
     "data": {
      "application/vnd.jupyter.widget-view+json": {
       "model_id": "574dbc5aea724d689279cfa39f8dd7e6",
       "version_major": 2,
       "version_minor": 0
      },
      "text/plain": [
       "Button(description='[W] = J', style=ButtonStyle())"
      ]
     },
     "metadata": {},
     "output_type": "display_data"
    },
    {
     "data": {
      "application/vnd.jupyter.widget-view+json": {
       "model_id": "04dc052ec7754c5bb19604d00096bea3",
       "version_major": 2,
       "version_minor": 0
      },
      "text/plain": [
       "Output()"
      ]
     },
     "metadata": {},
     "output_type": "display_data"
    },
    {
     "name": "stdout",
     "output_type": "stream",
     "text": [
      "Elektrischer Widerstand R\n"
     ]
    },
    {
     "data": {
      "application/vnd.jupyter.widget-view+json": {
       "model_id": "8b15a73806e04e9ba7da6c228b988928",
       "version_major": 2,
       "version_minor": 0
      },
      "text/plain": [
       "Button(description='[R] = Ω', style=ButtonStyle())"
      ]
     },
     "metadata": {},
     "output_type": "display_data"
    },
    {
     "data": {
      "application/vnd.jupyter.widget-view+json": {
       "model_id": "185731d87beb48f5b22911817b8d9034",
       "version_major": 2,
       "version_minor": 0
      },
      "text/plain": [
       "Output()"
      ]
     },
     "metadata": {},
     "output_type": "display_data"
    },
    {
     "name": "stdout",
     "output_type": "stream",
     "text": [
      "Spannung U\n"
     ]
    },
    {
     "data": {
      "application/vnd.jupyter.widget-view+json": {
       "model_id": "2633e638caf54211acdf8dcde9c246a9",
       "version_major": 2,
       "version_minor": 0
      },
      "text/plain": [
       "Button(description='[U] = V', style=ButtonStyle())"
      ]
     },
     "metadata": {},
     "output_type": "display_data"
    },
    {
     "data": {
      "application/vnd.jupyter.widget-view+json": {
       "model_id": "9ecd6d45d08b472c8142158bc2a69db1",
       "version_major": 2,
       "version_minor": 0
      },
      "text/plain": [
       "Output()"
      ]
     },
     "metadata": {},
     "output_type": "display_data"
    },
    {
     "name": "stdout",
     "output_type": "stream",
     "text": [
      "Elektrische Ladung Q\n"
     ]
    },
    {
     "data": {
      "application/vnd.jupyter.widget-view+json": {
       "model_id": "c67e6ede1b51406bb5acff1b8f099fee",
       "version_major": 2,
       "version_minor": 0
      },
      "text/plain": [
       "Button(description='[Q] = C', style=ButtonStyle())"
      ]
     },
     "metadata": {},
     "output_type": "display_data"
    },
    {
     "data": {
      "application/vnd.jupyter.widget-view+json": {
       "model_id": "0abd2aabcf4645e89d77e5aa251ee292",
       "version_major": 2,
       "version_minor": 0
      },
      "text/plain": [
       "Output()"
      ]
     },
     "metadata": {},
     "output_type": "display_data"
    },
    {
     "name": "stdout",
     "output_type": "stream",
     "text": [
      "Druck P\n"
     ]
    },
    {
     "data": {
      "application/vnd.jupyter.widget-view+json": {
       "model_id": "a108e9e14157436a99ad0949a527b081",
       "version_major": 2,
       "version_minor": 0
      },
      "text/plain": [
       "Button(description='[P] = Pa', style=ButtonStyle())"
      ]
     },
     "metadata": {},
     "output_type": "display_data"
    },
    {
     "data": {
      "application/vnd.jupyter.widget-view+json": {
       "model_id": "50ba5eca1ea64e4396449f3cc5687423",
       "version_major": 2,
       "version_minor": 0
      },
      "text/plain": [
       "Output()"
      ]
     },
     "metadata": {},
     "output_type": "display_data"
    },
    {
     "name": "stdout",
     "output_type": "stream",
     "text": [
      "Frequenz f\n"
     ]
    },
    {
     "data": {
      "application/vnd.jupyter.widget-view+json": {
       "model_id": "d7abe63a4cdf4d64acc7618d5507525e",
       "version_major": 2,
       "version_minor": 0
      },
      "text/plain": [
       "Button(description='[f] = Hz', style=ButtonStyle())"
      ]
     },
     "metadata": {},
     "output_type": "display_data"
    },
    {
     "data": {
      "application/vnd.jupyter.widget-view+json": {
       "model_id": "98e361a0079e453589c9a775897c5031",
       "version_major": 2,
       "version_minor": 0
      },
      "text/plain": [
       "Output()"
      ]
     },
     "metadata": {},
     "output_type": "display_data"
    },
    {
     "name": "stdout",
     "output_type": "stream",
     "text": [
      "Impuls p\n"
     ]
    },
    {
     "data": {
      "application/vnd.jupyter.widget-view+json": {
       "model_id": "695f6040e8c8457d8276b0cbd2e23a69",
       "version_major": 2,
       "version_minor": 0
      },
      "text/plain": [
       "Button(description='[p] = N s', style=ButtonStyle())"
      ]
     },
     "metadata": {},
     "output_type": "display_data"
    },
    {
     "data": {
      "application/vnd.jupyter.widget-view+json": {
       "model_id": "0604fe2b9b454dd0b8701d25089c11f9",
       "version_major": 2,
       "version_minor": 0
      },
      "text/plain": [
       "Output()"
      ]
     },
     "metadata": {},
     "output_type": "display_data"
    },
    {
     "name": "stdout",
     "output_type": "stream",
     "text": [
      "Drehimpuls L\n"
     ]
    },
    {
     "data": {
      "application/vnd.jupyter.widget-view+json": {
       "model_id": "a55ab80b149b42c6b098052400d0fff1",
       "version_major": 2,
       "version_minor": 0
      },
      "text/plain": [
       "Button(description='[L]', style=ButtonStyle())"
      ]
     },
     "metadata": {},
     "output_type": "display_data"
    },
    {
     "data": {
      "application/vnd.jupyter.widget-view+json": {
       "model_id": "bf6d82bbc1ef427ea2d55dde9c9c0194",
       "version_major": 2,
       "version_minor": 0
      },
      "text/plain": [
       "Output()"
      ]
     },
     "metadata": {},
     "output_type": "display_data"
    }
   ],
   "source": [
    "# Kraft - Newton\n",
    "button = widgets.Button(description='[F] = N')   # create button\n",
    "out = widgets.Output()                      # create output\n",
    "print('Kraft F')\n",
    "\n",
    "def clicked(x):                             # connecting function and output\n",
    "    with out:\n",
    "        clear_output()                      # clear output if button is clicked again\n",
    "        display(Markdown('N = kg $\\cdot$ m $\\cdot$ s<sup>-2</sup>'))\n",
    "\n",
    "button.on_click(clicked)                    # execute function 'clicked' on click\n",
    "display(button,out)                         # display Button and output\n",
    "\n",
    "#Leistung - Watt\n",
    "button = widgets.Button(description='[P] = W')   # create button\n",
    "out = widgets.Output()                      # create output\n",
    "print('Leistung  P')\n",
    "\n",
    "def clicked(x):                             # connecting function and output\n",
    "    with out:\n",
    "        clear_output()                      # clear output if button is clicked again\n",
    "        display(Markdown('W = kg $\\cdot$ m<sup>2</sup> $\\cdot$ s<sup>-3</sup>'))\n",
    "\n",
    "button.on_click(clicked)                    # execute function 'clicked' on click\n",
    "display(button,out)                         # display Button and output\n",
    "                         \n",
    "#Arbeit - Joule\n",
    "button = widgets.Button(description='[W] = J')   # create button\n",
    "out = widgets.Output()                      # create output\n",
    "print('Arbeit  W')\n",
    "\n",
    "def clicked(x):                             # connecting function and output\n",
    "    with out:\n",
    "        clear_output()                      # clear output if button is clicked again\n",
    "        display(Markdown('J = N $\\cdot$ m = kg $\\cdot$ m<sup>2</sup> $\\cdot$ s<sup>-2</sup>'))\n",
    "\n",
    "button.on_click(clicked)                    # execute function 'clicked' on click\n",
    "display(button,out)                         # display Button and output\n",
    "\n",
    "#Widerstand - Ohm\n",
    "button = widgets.Button(description='[R] = Ω')   # create button\n",
    "out = widgets.Output()                      # create output\n",
    "print('Elektrischer Widerstand R')\n",
    "def clicked(x):                             # connecting function and output\n",
    "    with out:\n",
    "        clear_output()                      # clear output if button is clicked again\n",
    "        display(Markdown('Ω = V/A = kg $\\cdot$ m<sup>2</sup> $\\cdot$ A<sup>-2</sup> $\\cdot$ s<sup>-3</sup>'))\n",
    "\n",
    "button.on_click(clicked)                    # execute function 'clicked' on click\n",
    "display(button,out)                         # display Button and output\n",
    "\n",
    "#Spannung - Volt\n",
    "button = widgets.Button(description='[U] = V')   # create button\n",
    "out = widgets.Output()                      # create output\n",
    "print('Spannung U')\n",
    "\n",
    "def clicked(x):                             # connecting function and output\n",
    "    with out:\n",
    "        clear_output()                      # clear output if button is clicked again\n",
    "        display(Markdown('V = J/C = kg $\\cdot$ m<sup>2</sup> $\\cdot$ A<sup>-1</sup> $\\cdot$ s<sup>-3</sup>'))\n",
    "\n",
    "button.on_click(clicked)                    # execute function 'clicked' on click\n",
    "display(button,out)                         # display Button and output\n",
    "\n",
    "#elektr. Ladung - Coulomb\n",
    "button = widgets.Button(description='[Q] = C')   # create button\n",
    "out = widgets.Output()                      # create output\n",
    "print('Elektrische Ladung Q')\n",
    "\n",
    "def clicked(x):                             # connecting function and output\n",
    "    with out:\n",
    "        clear_output()                      # clear output if button is clicked again\n",
    "        display(Markdown('C = A $\\cdot$ s'))\n",
    "\n",
    "button.on_click(clicked)                    # execute function 'clicked' on click\n",
    "display(button,out)                         # display Button and output\n",
    "\n",
    "#Druck - Pa\n",
    "button = widgets.Button(description='[P] = Pa')   # create button\n",
    "out = widgets.Output()                      # create output\n",
    "print('Druck P')\n",
    "\n",
    "def clicked(x):                             # connecting function and output\n",
    "    with out:\n",
    "        clear_output()                      # clear output if button is clicked again\n",
    "        display(Markdown('Pa = N/m<sup>2</sup> = kg $\\cdot$ m<sup>-1</sup> $\\cdot$ s<sup>-2</sup>'))\n",
    "\n",
    "button.on_click(clicked)                    # execute function 'clicked' on click\n",
    "display(button,out)                         # display Button and output\n",
    "\n",
    "#Frequenz - Hz\n",
    "button = widgets.Button(description='[f] = Hz')   # create button\n",
    "out = widgets.Output()                      # create output\n",
    "print('Frequenz f')\n",
    "\n",
    "def clicked(x):                             # connecting function and output\n",
    "    with out:\n",
    "        clear_output()                      # clear output if button is clicked again\n",
    "        display(Markdown('Hz = 1/s = s<sup>-1</sup>'))\n",
    "\n",
    "button.on_click(clicked)                    # execute function 'clicked' on click\n",
    "display(button,out)                         # display Button and output\n",
    "\n",
    "#Impuls - Ns\n",
    "button = widgets.Button(description='[p] = N s')   # create button\n",
    "out = widgets.Output()                      # create output\n",
    "print('Impuls p')\n",
    "\n",
    "def clicked(x):                             # connecting function and output\n",
    "    with out:\n",
    "        clear_output()                      # clear output if button is clicked again\n",
    "        display(Markdown('N $\\cdot$ s = kg $\\cdot$ m $\\cdot$ s<sup>-1</sup>'))\n",
    "\n",
    "button.on_click(clicked)                    # execute function 'clicked' on click\n",
    "display(button,out)                         # display Button and output\n",
    "\n",
    "\n",
    "#Drehimpuls\n",
    "button = widgets.Button(description='[L]')   # create button\n",
    "out = widgets.Output()                      # create output\n",
    "print('Drehimpuls L')\n",
    "\n",
    "def clicked(x):                             # connecting function and output\n",
    "    with out:\n",
    "        clear_output()                      # clear output if button is clicked again\n",
    "        display(Markdown('kg $\\cdot$ m<sup>2</sup> $\\cdot$ s<sup>-1</sup>'))\n",
    "\n",
    "button.on_click(clicked)                    # execute function 'clicked' on click\n",
    "display(button,out)                         # display Button and output\n"
   ]
  },
  {
   "cell_type": "markdown",
   "metadata": {},
   "source": [
    "Oktober 2020 (CC BY-SA 4.0)"
   ]
  },
  {
   "cell_type": "code",
   "execution_count": null,
   "metadata": {},
   "outputs": [],
   "source": []
  },
  {
   "cell_type": "code",
   "execution_count": null,
   "metadata": {},
   "outputs": [],
   "source": []
  }
 ],
 "metadata": {
  "celltoolbar": "Slideshow",
  "kernelspec": {
   "display_name": "Python 3",
   "language": "python",
   "name": "python3"
  },
  "language_info": {
   "codemirror_mode": {
    "name": "ipython",
    "version": 3
   },
   "file_extension": ".py",
   "mimetype": "text/x-python",
   "name": "python",
   "nbconvert_exporter": "python",
   "pygments_lexer": "ipython3",
   "version": "3.6.8"
  }
 },
 "nbformat": 4,
 "nbformat_minor": 4
}
