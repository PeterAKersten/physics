{
 "cells": [
  {
   "cell_type": "markdown",
   "metadata": {},
   "source": [
    "## Elektrisches Feld zweier Punktladungen\n",
    "\n",
    "[P. Kersten](https://www.hshl.de/personen/prof-dr-ing-peter-kersten), [J. Jeschonowski](https://www.xing.com/profile/Jule_Jeschonowski/cv), [L.P. Kamegne-Kamdem](https://www.linkedin.com/in/leger-paco-kamegne-kamdem-07ba39184/), [N.B. Neathery](https://www.linkedin.com/in/noel-neathery-6371561a6/) und D.M. Weis\n",
    "\n",
    "[Hochschule Hamm-Lippstadt](https://www.hshl.de), Marker Allee 76–78, D-59063 Hamm"
   ]
  },
  {
   "cell_type": "markdown",
   "metadata": {},
   "source": [
    "## Inhalt\n",
    "- Visualisierung des elektrischen Feldes zweier Punktladungen"
   ]
  },
  {
   "cell_type": "code",
   "execution_count": 1,
   "metadata": {},
   "outputs": [],
   "source": [
    "%matplotlib inline\n",
    "import numpy as np\n",
    "import sympy as sp\n",
    "import math as m\n",
    "import matplotlib.pyplot as plt\n",
    "import ipywidgets as widgets\n",
    "import scipy.optimize\n",
    "from ipywidgets import interact\n",
    "from sympy import symbols\n",
    "from sympy.plotting import plot3d\n",
    "from matplotlib.pyplot import figure\n",
    "from scipy.optimize import curve_fit\n",
    "from IPython.display import Markdown, clear_output, display, HTML"
   ]
  },
  {
   "cell_type": "code",
   "execution_count": 2,
   "metadata": {},
   "outputs": [
    {
     "data": {
      "text/html": [
       "<script>$(\"div.input\").hide()</script>"
      ],
      "text/plain": [
       "<IPython.core.display.HTML object>"
      ]
     },
     "metadata": {},
     "output_type": "display_data"
    },
    {
     "data": {
      "application/vnd.jupyter.widget-view+json": {
       "model_id": "a7f74e5ceced45139817d7f84c87e32d",
       "version_major": 2,
       "version_minor": 0
      },
      "text/plain": [
       "ToggleButton(value=False, description='Quellcode anzeigen')"
      ]
     },
     "metadata": {},
     "output_type": "display_data"
    },
    {
     "data": {
      "text/html": [
       "<script>$(\"div.input\").show()</script>"
      ],
      "text/plain": [
       "<IPython.core.display.HTML object>"
      ]
     },
     "metadata": {},
     "output_type": "display_data"
    },
    {
     "data": {
      "text/html": [
       "<script>$(\"div.input\").hide()</script>"
      ],
      "text/plain": [
       "<IPython.core.display.HTML object>"
      ]
     },
     "metadata": {},
     "output_type": "display_data"
    }
   ],
   "source": [
    "javascript_funktion = {False: \"hide()\", True: \"show()\"}\n",
    "schaltflaeche  = {False: \"Quellcode anzeigen\", True: \"Quellcode verbergen\"}\n",
    "\n",
    "\n",
    "def quellcode_umschalten(state):\n",
    "\n",
    "    output_string = \"<script>$(\\\"div.input\\\").{}</script>\"\n",
    "    output_args   = (javascript_funktion[state],)\n",
    "    output        = output_string.format(*output_args)\n",
    "    display(HTML(output))\n",
    "\n",
    "\n",
    "def schaltflaeche_aktion(value):\n",
    "\n",
    "    state = value.new\n",
    "    quellcode_umschalten(state)\n",
    "    value.owner.description = schaltflaeche[state]\n",
    "\n",
    "\n",
    "state = False\n",
    "quellcode_umschalten(state)\n",
    "\n",
    "button = widgets.ToggleButton(state, description = schaltflaeche[state])\n",
    "button.observe(schaltflaeche_aktion, \"value\")\n",
    "\n",
    "display(button)"
   ]
  },
  {
   "cell_type": "markdown",
   "metadata": {},
   "source": [
    "## Berechnung elektrischer Felder\n",
    "\n",
    "Das elektrische Feld $E$ am Ort der Ladung $q_0$ ist als der Quotient aus der resultierenden Kraft $F$ und der Probeladung $q_0$ definiert: \n",
    "\n",
    "$E={F}/{q_0}$\n",
    "\n",
    "Mithilfe des Columbschen Gesetzes $F=1/(4\\,\\pi\\,\\epsilon_0)\\,({q\\cdot q_0})/{r^2}$ ergibt sich daraus das resultierende elektrische Feld für ein System aus $i$-Punktladungen:\n",
    "\n",
    "$E=\\sum \\limits_{i} E_i = \\sum \\limits_{i} \\frac{1}{4\\,\\pi\\,\\epsilon_0}\\,\\frac{q_i\\cdot q_0}{r_i^2} \\frac{\\vec{r_i}}{r_i}$\n",
    "\n",
    "Hierbei ist $E_i$ das elektrische Feld der Ladung $q_i$ an einem Feldpunkt $P$, der den Abstand $\\vec{r_i}$ zur Ladung $q_i$ aufweist."
   ]
  },
  {
   "cell_type": "markdown",
   "metadata": {},
   "source": [
    "## Knowledge Check(s)\n",
    "### Visualisierung eines elektrischen Feldes zweier Punktladungen\n",
    "\n",
    "Sie wollen eine Skizze für das elektrische Feld zweier Punktladungen $q_1$ und $q_2$ anfertigen, die auf der $x$-Achse an den Stellen $x=-1,5\\,\\text{m}$ und $x=+1,5\\,\\text{m}$ positioniert sind.\n",
    "\n",
    "(a) Fertigen Sie eine Skizze für den Fall an, dass beide Ladungen positiv sind <br>\n",
    "(b) Fertigen Sie eine Skizze für den Fall an, dass beide Ladungen negativ sind <br>\n",
    "(c) Fertigen Sie eine Skizze an für den Fall, dass die Ladung $q_1$ positiv und die Ladung $q_2$ negativ ist <br>\n",
    "<br>\n",
    "\n",
    "Verändern Sie die Ladungen mit den Schiebereglern und vergleichen Sie die Felddarstellung mit Ihrer Skizze."
   ]
  },
  {
   "cell_type": "code",
   "execution_count": 3,
   "metadata": {},
   "outputs": [],
   "source": [
    "%matplotlib inline\n",
    "import numpy as np\n",
    "import sympy as sp\n",
    "import math as m\n",
    "import matplotlib.pyplot as plt\n",
    "import ipywidgets as widgets\n",
    "\n",
    "from ipywidgets import interact\n",
    "from sympy import symbols\n",
    "from sympy.plotting import plot3d\n",
    "from matplotlib.pyplot import figure"
   ]
  },
  {
   "cell_type": "code",
   "execution_count": 4,
   "metadata": {},
   "outputs": [
    {
     "name": "stdout",
     "output_type": "stream",
     "text": [
      "Hier können die Werte für die Ladungen q1 und q2 verändert werden (Eingabe in nC)\n"
     ]
    },
    {
     "data": {
      "application/vnd.jupyter.widget-view+json": {
       "model_id": "92b67bae934f465ead00fe3f655c725d",
       "version_major": 2,
       "version_minor": 0
      },
      "text/plain": [
       "interactive(children=(IntSlider(value=-5, description='q1', max=10, min=-10), IntSlider(value=-5, description=…"
      ]
     },
     "metadata": {},
     "output_type": "display_data"
    },
    {
     "data": {
      "text/plain": [
       "<function __main__.f(q1, q2)>"
      ]
     },
     "execution_count": 4,
     "metadata": {},
     "output_type": "execute_result"
    }
   ],
   "source": [
    "e0 = 8.854e-12\n",
    "\n",
    "print('Hier können die Werte für die Ladungen q1 und q2 verändert werden (Eingabe in nC)')\n",
    "\n",
    "def f(q1,q2):\n",
    "    q1=q1*1e-9\n",
    "    q2=q2*1e-9\n",
    "    rx = np.linspace(-3.25,3.25,12);\n",
    "    ry = rx;\n",
    "    fig, ax = plt.subplots()\n",
    "    ax.set_xlabel('x in m')\n",
    "    ax.set_ylabel('y in m')\n",
    "    ax.set_title('Elektrisches Feld zweier Ladungen')\n",
    "    ax.plot(-1.5,0,'-+r')\n",
    "    ax.plot(1.5,0,'-+b')\n",
    "    \n",
    "    for i in range (0,12):\n",
    "        for j in range (0,12):\n",
    "            r1 = ([rx[i] + 1.5, ry[j]])\n",
    "            E1 = 1/(4*m.pi*e0)*q1*(r1/np.linalg.norm(r1)**3)\n",
    "            r2 = ([rx[i] - 1.5, ry[j]])\n",
    "            E2 = 1/(4*m.pi*e0)*q2*(r2/np.linalg.norm(r2)**3)\n",
    "            E = E1 + E2\n",
    "            ax.quiver(rx[i], ry[j], E[0], E[1])\n",
    "            \n",
    "interact(f, q1 = widgets.IntSlider(value=-5, min=-10, max=10, step=1), \n",
    "            q2 = widgets.IntSlider(value=-5, min=-10, max=10, step=1))"
   ]
  },
  {
   "cell_type": "markdown",
   "metadata": {},
   "source": [
    "Oktober 2020 (CC BY-SA 4.0)"
   ]
  },
  {
   "cell_type": "code",
   "execution_count": null,
   "metadata": {},
   "outputs": [],
   "source": []
  }
 ],
 "metadata": {
  "kernelspec": {
   "display_name": "Python 3",
   "language": "python",
   "name": "python3"
  },
  "language_info": {
   "codemirror_mode": {
    "name": "ipython",
    "version": 3
   },
   "file_extension": ".py",
   "mimetype": "text/x-python",
   "name": "python",
   "nbconvert_exporter": "python",
   "pygments_lexer": "ipython3",
   "version": "3.6.8"
  }
 },
 "nbformat": 4,
 "nbformat_minor": 2
}
