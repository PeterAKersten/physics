{
 "cells": [
  {
   "cell_type": "markdown",
   "metadata": {},
   "source": [
    "# Smarte und interaktive Kurzskripte (smartiS) \n",
    "\n",
    " \n",
    "[P. Kersten](https://www.hshl.de/personen/prof-dr-ing-peter-kersten), [J. Jeschonowski](https://www.xing.com/profile/Jule_Jeschonowski/cv), [L.P. Kamegne-Kamdem](https://www.linkedin.com/in/leger-paco-kamegne-kamdem-07ba39184/), [N.B. Neathery](https://www.linkedin.com/in/noel-neathery-6371561a6/) und D.M. Weis\n",
    "\n",
    "[Hochschule Hamm-Lippstadt](https://www.hshl.de), Marker Allee 76–78, D-59063 Hamm"
   ]
  },
  {
   "cell_type": "markdown",
   "metadata": {},
   "source": [
    "# Skalarprodukt\n",
    "\n",
    "## Inhalt\n",
    "- Skalarprodukt berechnen\n",
    "- Winkel zwischen zwei Vektoren berechnen"
   ]
  },
  {
   "cell_type": "code",
   "execution_count": 1,
   "metadata": {},
   "outputs": [],
   "source": [
    "%matplotlib inline\n",
    "import numpy as np\n",
    "import sympy as sp\n",
    "import math as m\n",
    "import matplotlib.pyplot as plt\n",
    "import ipywidgets as widgets\n",
    "\n",
    "from ipywidgets import interact\n",
    "from sympy import symbols\n",
    "from sympy.plotting import plot3d\n",
    "from matplotlib.pyplot import figure\n",
    "from IPython.display import Markdown, clear_output, display, HTML"
   ]
  },
  {
   "cell_type": "code",
   "execution_count": 2,
   "metadata": {},
   "outputs": [
    {
     "data": {
      "text/html": [
       "<script>$(\"div.input\").hide()</script>"
      ],
      "text/plain": [
       "<IPython.core.display.HTML object>"
      ]
     },
     "metadata": {},
     "output_type": "display_data"
    },
    {
     "data": {
      "application/vnd.jupyter.widget-view+json": {
       "model_id": "2cda5d311f114c1ba23f698bf768d2aa",
       "version_major": 2,
       "version_minor": 0
      },
      "text/plain": [
       "ToggleButton(value=False, description='Quellcode anzeigen')"
      ]
     },
     "metadata": {},
     "output_type": "display_data"
    }
   ],
   "source": [
    "javascript_funktion = {False: \"hide()\", True: \"show()\"}\n",
    "schaltflaeche  = {False: \"Quellcode anzeigen\", True: \"Quellcode verbergen\"}\n",
    "\n",
    "\n",
    "def quellcode_umschalten(state):\n",
    "\n",
    "    output_string = \"<script>$(\\\"div.input\\\").{}</script>\"\n",
    "    output_args   = (javascript_funktion[state],)\n",
    "    output        = output_string.format(*output_args)\n",
    "    display(HTML(output))\n",
    "\n",
    "\n",
    "def schaltflaeche_aktion(value):\n",
    "\n",
    "    state = value.new\n",
    "    quellcode_umschalten(state)\n",
    "    value.owner.description = schaltflaeche[state]\n",
    "\n",
    "\n",
    "state = False\n",
    "quellcode_umschalten(state)\n",
    "\n",
    "button = widgets.ToggleButton(state, description = schaltflaeche[state])\n",
    "button.observe(schaltflaeche_aktion, \"value\")\n",
    "\n",
    "display(button)"
   ]
  },
  {
   "cell_type": "markdown",
   "metadata": {},
   "source": [
    "## Skalarprodukt berechnen\n",
    "\n",
    "In der Physik werden zwei Vektoren häufig so miteinander multipliziert, dass das Ergebnis ein Skalar ist. Ein bekanntes Beispiel hierfür ist die Berechnung der skalaren physikalischen Größe Arbeit ($W$) mit:<br>\n",
    "\n",
    "$W=\\vec{F} \\cdot \\vec{s}$ <br>\n",
    "\n",
    "Hierbei sind $\\vec{F}$ und $\\vec{s}$ die vektoriellen Größem Kraft und Weg.\n",
    "\n",
    "Das Skalarprodukt der Vektoren $\\vec{a}$ und $\\vec{b}$ ist folgendermaßen definiert.<br>\n",
    "\n",
    "$\\vec{a} \\cdot \\vec{b} = \\left| \\vec{a} \\right| \\cdot \\left| \\vec{b} \\right| \\cdot \\text{cos}(\\theta)$\n",
    "\n",
    "Das Skalarprodukt kann man aber auch in Komponentenschreibweise formulieren. Die Komponenten der Vektoren $\\vec{a}$ und $\\vec{b}$ können wir dann angeben mit: <br>\n",
    "\n",
    "$\\vec{a}=\\begin{pmatrix}a_1 \\\\\\ a_2 \\\\\\ a_3 \\end{pmatrix}$, $\\vec{b}=\\begin{pmatrix}b_1 \\\\\\ b_2 \\\\\\ b_3 \\end{pmatrix}$\n",
    "\n",
    "Das Skalarprodukt berechnet sich dann folgendermaßen:\n",
    "\n",
    "$\\vec{a} \\cdot \\vec{b} = \\sum \\limits_{i=1}^{3} a_i \\cdot b_i = a_1 \\cdot b_1 + a_2 \\cdot b_2 +a_3 \\cdot b_3$\n",
    "\n",
    "Anstelle der Indizes können wir natürlich auch die $x$, $y$ und $z$ Komponenten verwenden und erhalten: <br>\n",
    "\n",
    "$\\vec{a}=\\begin{pmatrix}a_x \\\\\\ a_y \\\\\\ a_z \\end{pmatrix}$, $\\vec{b}=\\begin{pmatrix}b_x \\\\\\ b_y \\\\\\ b_z \\end{pmatrix}$\n",
    "\n",
    "Das Skalarprodukt berechnet sich dann folgendermaßen:\n",
    "\n",
    "$\\vec{a} \\cdot \\vec{b} = a_x \\cdot b_x + a_y \\cdot b_y +a_z \\cdot b_z$\n"
   ]
  },
  {
   "cell_type": "markdown",
   "metadata": {},
   "source": [
    "Das Ergebnis des Skalarprodukts kann Auskunft über den Winkel zwischen den beiden Vektoren geben. Ein Skalarprodukt von $0$ bedeutet das die Vektoren senkrecht aufeinander ( $90°$ ) und damit orthogonal sind. Ein Ergebnis kleiner $0$ hat einen stumpfen und ein Ergebnis größer $0$ einen spitzen Winkel zur Folge.\n",
    "\n",
    "Wenn ihr mithilfe dieses smartis ein Skalarprodukt ausrechnen wollt, dann klickt oben auf den Button \"Quellcode anzeigen\". Nun solltet ihr unter diesem Text ein paar Codezeilen finden, in denen ihr die grünen Werte der Vektoren ändern könnt. Mit klicken auf \"Run\" bekommt ihr unter den Codezeilen eure eingegebenen Vektoren sowie das dazugehörige Skalarprodukt angezeigt."
   ]
  },
  {
   "cell_type": "code",
   "execution_count": 3,
   "metadata": {},
   "outputs": [
    {
     "name": "stdout",
     "output_type": "stream",
     "text": [
      "Vektor 1: [1 2 3]\n",
      "\n",
      "Vektor 2: [4 5 6]\n",
      "\n",
      "Skalarprodukt:  32\n"
     ]
    }
   ],
   "source": [
    "vektor1=np.array([1,2,3]) #sollte dein Vektor mehr als 3 Stellen haben, dann füge einfach weitere Zahlen mit Komma aber ohne Leerzeichen hinzu\n",
    "print(\"Vektor 1:\",vektor1)\n",
    "print()\n",
    "\n",
    "vektor2=np.array([4,5,6]) #sollte dein Vektor mehr als 3 Stellen haben, dann füge einfach weitere Zahlen mit Komma aber ohne Leerzeichen hinzu\n",
    "print(\"Vektor 2:\",vektor2)\n",
    "print()\n",
    "\n",
    "print(\"Skalarprodukt: \",np.dot(vektor1,vektor2))   \n"
   ]
  },
  {
   "cell_type": "markdown",
   "metadata": {},
   "source": [
    "## Knowledge Check(s)\n",
    "\n",
    "### Skalarprodukte berechnen\n",
    "Berechne die Skalarprodukte der jeweils beiden Vektoren und überprüfe mit diesem smarti ob du richtig gerechnet hast:\n",
    "\n",
    "<p>1. $\\qquad\\vec{F_1}=\\begin{pmatrix} 1 \\\\\\ 3 \\\\\\ 2 \\end{pmatrix}\\qquad$ und $\\qquad\\vec{s_1}=\\begin{pmatrix} 5 \\\\\\ -3 \\\\\\ 1 \\end{pmatrix}$\n",
    "\n",
    "<p>2. $\\qquad\\vec{F_2}=\\begin{pmatrix} 0 \\\\\\ 2 \\\\\\ 1 \\end{pmatrix}\\qquad$ und $\\qquad\\vec{s_2}=\\begin{pmatrix} 6 \\\\\\ 10 \\\\\\ 2 \\end{pmatrix}$\n",
    "\n",
    "<p>3. $\\qquad\\vec{a}=\\begin{pmatrix} 1 \\\\\\ 2 \\\\\\ 3 \\\\\\ 4 \\end{pmatrix}\\qquad$ und $\\qquad\\vec{b}=\\begin{pmatrix} -5 \\\\\\ -6 \\\\\\ -7 \\\\\\ -8 \\end{pmatrix}$"
   ]
  },
  {
   "cell_type": "markdown",
   "metadata": {},
   "source": [
    "## Winkel zwischen zwei Vektoren berechnen\n",
    "\n",
    "\n",
    "Mit Hilfe der Definition des Skalarproduktes können wir sehr elegant den Winkel zwischen zwei Vektoren berechnen:<br>\n",
    "\n",
    "$\\vec{a} \\cdot \\vec{b} = \\left| \\vec{a} \\right| \\cdot \\left| \\vec{b} \\right| \\cdot \\text{cos}(\\theta)$\n",
    "\n",
    "\n",
    "Hierbei sind $\\left| \\vec{a} \\right|$ und $\\left| \\vec{b} \\right|$ die Längen der Vektoren $\\vec{a}$ und $\\vec{b}$, diese können wir berechnen mit:\n",
    "\n",
    "$|\\vec{a}|=\\sqrt {a_x^2+a_y^2+a_z^2}$ und $|\\vec{b}|=\\sqrt {b_x^2+b_y^2+b_z^2}$. <br>\n",
    "\n",
    "\n",
    "$\\theta=\\text{acos} \\frac{\\vec{a} \\cdot \\vec{b}}{\\left| \\vec{a} \\right| \\cdot \\left| \\vec{b} \\right|}$\n",
    "\n",
    "Probiert es selber aus! (Hierfür müsst ihr wieder den \"Quellcode anzeigen\" und im Code eure Vektoren ändern.)"
   ]
  },
  {
   "cell_type": "code",
   "execution_count": 4,
   "metadata": {},
   "outputs": [
    {
     "name": "stdout",
     "output_type": "stream",
     "text": [
      "Komponenten Vektor 1: [1 0 5]\n",
      "Komponenten Vektor 2: [0 0 1]\n",
      "Länge Vektor 1: 5.1\n",
      "Länge Vektor 2: 1.0\n",
      "Skalarprodukt:  5\n",
      "\n",
      "Winkel in Bogenmaß: 0.2\n",
      "Winkel in Grad: 11.31\n"
     ]
    }
   ],
   "source": [
    "vektor1=np.array([1,0,5]) #sollte dein Vektor mehr als 3 Stellen haben, dann füge einfach weitere Zahlen mit Komma aber ohne Leerzeichen hinzu\n",
    "print(\"Komponenten Vektor 1:\",vektor1)\n",
    "vektor2=np.array([0,0,1]) #sollte dein Vektor mehr als 3 Stellen haben, dann füge einfach weitere Zahlen mit Komma aber ohne Leerzeichen hinzu\n",
    "print(\"Komponenten Vektor 2:\",vektor2)\n",
    "print(\"Länge Vektor 1:\",round(np.linalg.norm(vektor1),2))\n",
    "print(\"Länge Vektor 2:\",round(np.linalg.norm(vektor2),2))\n",
    "\n",
    "print(\"Skalarprodukt: \",np.dot(vektor1,vektor2))\n",
    "print()\n",
    "\n",
    "theta_r = m.acos(np.dot(vektor1,vektor2)/(np.linalg.norm(vektor1)*(np.linalg.norm(vektor2))))\n",
    "theta_d = m.degrees(theta_r)\n",
    "\n",
    "print(\"Winkel in Bogenmaß:\", round(theta_r,2))\n",
    "print(\"Winkel in Grad:\",round(theta_d,2))\n"
   ]
  },
  {
   "cell_type": "markdown",
   "metadata": {},
   "source": [
    "## Knowledge Check(s)\n",
    "\n",
    "### Länge von Vektoren und deren Winkel zu den Koordinatenachsen\n",
    "Geben Sie die Länge des Vektors $\\vec{a}=(2,4)$ an und berechnen Sie den Winkel $\\theta$ zur $x$-Achse. <br>\n",
    "Geben Sie die Länge des Vektors $\\vec{b}=(3,5)$ an und berechnen Sie den Winkel $\\theta$ zur $y$-Achse. <br>\n",
    "Geben Sie die Länge des Vektors $\\vec{c}=(2,3,5)$ an und berechnen Sie den Winkel $\\theta$ zur $z$-Achse.<br>"
   ]
  },
  {
   "cell_type": "markdown",
   "metadata": {},
   "source": [
    "# Wie fandet ihr dieses smarti?\n",
    "\n",
    "[Lasst uns gerne Feedback da!](https://pingo.coactum.de/460203) Viel Spaß wünscht das smartiS Team :-)"
   ]
  },
  {
   "cell_type": "markdown",
   "metadata": {},
   "source": [
    "November 2020 (CC BY-SA 4.0)"
   ]
  }
 ],
 "metadata": {
  "celltoolbar": "Slideshow",
  "kernelspec": {
   "display_name": "Python 3",
   "language": "python",
   "name": "python3"
  },
  "language_info": {
   "codemirror_mode": {
    "name": "ipython",
    "version": 3
   },
   "file_extension": ".py",
   "mimetype": "text/x-python",
   "name": "python",
   "nbconvert_exporter": "python",
   "pygments_lexer": "ipython3",
   "version": "3.6.8"
  }
 },
 "nbformat": 4,
 "nbformat_minor": 4
}
